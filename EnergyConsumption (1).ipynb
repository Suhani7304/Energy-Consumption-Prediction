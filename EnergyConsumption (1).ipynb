{
 "cells": [
  {
   "cell_type": "code",
   "execution_count": 1,
   "id": "fcb74c5a-bdb2-43ee-805a-401cb63ad44c",
   "metadata": {},
   "outputs": [],
   "source": [
    "import pandas as pd\n",
    "import numpy as np\n",
    "import matplotlib.pyplot as plt"
   ]
  },
  {
   "cell_type": "code",
   "execution_count": 62,
   "id": "88fe8a75-fd74-4313-96c9-593705b79dee",
   "metadata": {},
   "outputs": [
    {
     "data": {
      "text/html": [
       "<div>\n",
       "<style scoped>\n",
       "    .dataframe tbody tr th:only-of-type {\n",
       "        vertical-align: middle;\n",
       "    }\n",
       "\n",
       "    .dataframe tbody tr th {\n",
       "        vertical-align: top;\n",
       "    }\n",
       "\n",
       "    .dataframe thead th {\n",
       "        text-align: right;\n",
       "    }\n",
       "</style>\n",
       "<table border=\"1\" class=\"dataframe\">\n",
       "  <thead>\n",
       "    <tr style=\"text-align: right;\">\n",
       "      <th></th>\n",
       "      <th>Timestamp</th>\n",
       "      <th>Temperature</th>\n",
       "      <th>Humidity</th>\n",
       "      <th>SquareFootage</th>\n",
       "      <th>Occupancy</th>\n",
       "      <th>HVACUsage</th>\n",
       "      <th>LightingUsage</th>\n",
       "      <th>RenewableEnergy</th>\n",
       "      <th>DayOfWeek</th>\n",
       "      <th>Holiday</th>\n",
       "      <th>EnergyConsumption</th>\n",
       "    </tr>\n",
       "  </thead>\n",
       "  <tbody>\n",
       "    <tr>\n",
       "      <th>0</th>\n",
       "      <td>2022-01-01 00:00:00</td>\n",
       "      <td>25.139433</td>\n",
       "      <td>43.431581</td>\n",
       "      <td>1565.693999</td>\n",
       "      <td>5</td>\n",
       "      <td>On</td>\n",
       "      <td>Off</td>\n",
       "      <td>2.774699</td>\n",
       "      <td>Monday</td>\n",
       "      <td>No</td>\n",
       "      <td>75.364373</td>\n",
       "    </tr>\n",
       "    <tr>\n",
       "      <th>1</th>\n",
       "      <td>2022-01-01 01:00:00</td>\n",
       "      <td>27.731651</td>\n",
       "      <td>54.225919</td>\n",
       "      <td>1411.064918</td>\n",
       "      <td>1</td>\n",
       "      <td>On</td>\n",
       "      <td>On</td>\n",
       "      <td>21.831384</td>\n",
       "      <td>Saturday</td>\n",
       "      <td>No</td>\n",
       "      <td>83.401855</td>\n",
       "    </tr>\n",
       "  </tbody>\n",
       "</table>\n",
       "</div>"
      ],
      "text/plain": [
       "             Timestamp  Temperature   Humidity  SquareFootage  Occupancy  \\\n",
       "0  2022-01-01 00:00:00    25.139433  43.431581    1565.693999          5   \n",
       "1  2022-01-01 01:00:00    27.731651  54.225919    1411.064918          1   \n",
       "\n",
       "  HVACUsage LightingUsage  RenewableEnergy DayOfWeek Holiday  \\\n",
       "0        On           Off         2.774699    Monday      No   \n",
       "1        On            On        21.831384  Saturday      No   \n",
       "\n",
       "   EnergyConsumption  \n",
       "0          75.364373  \n",
       "1          83.401855  "
      ]
     },
     "execution_count": 62,
     "metadata": {},
     "output_type": "execute_result"
    }
   ],
   "source": [
    "df = pd.read_csv(r\"C:\\Users\\abcde\\Downloads\\Energy_consumption.csv\")\n",
    "df.head(2)"
   ]
  },
  {
   "cell_type": "code",
   "execution_count": 63,
   "id": "2f2d9f10-2607-439a-8cbf-91f49502122e",
   "metadata": {},
   "outputs": [],
   "source": [
    "df['HVACUsage'] = df['HVACUsage'].map({'On':1 , 'Off':0})"
   ]
  },
  {
   "cell_type": "code",
   "execution_count": 64,
   "id": "6479b2a9-4cb5-4a19-b1e0-10d952fa6021",
   "metadata": {},
   "outputs": [],
   "source": [
    "df['LightingUsage'] = df['LightingUsage'].map({'On':1 , 'Off':0})"
   ]
  },
  {
   "cell_type": "code",
   "execution_count": 65,
   "id": "a5860ac0-bfde-4104-995c-09057fbb5013",
   "metadata": {},
   "outputs": [],
   "source": [
    "df['Holiday'] = df['Holiday'].map({'Yes':1 , 'No':0})"
   ]
  },
  {
   "cell_type": "code",
   "execution_count": 66,
   "id": "1c37f603-6bd8-47ba-beee-973d178b5ddb",
   "metadata": {},
   "outputs": [],
   "source": [
    "df['DayOfWeek'] = df['DayOfWeek'].map({'Sunday':0 , 'Monday':1 , 'Tuesday':2 , 'Wednesday':3 , 'Thursday':4 , 'Friday':5 , 'Saturday':6 })"
   ]
  },
  {
   "cell_type": "code",
   "execution_count": 67,
   "id": "e7e6b9ac-db55-4810-94ac-3f93b067e488",
   "metadata": {},
   "outputs": [
    {
     "name": "stdout",
     "output_type": "stream",
     "text": [
      "[1 6 0 3 5 4 2]\n"
     ]
    }
   ],
   "source": [
    "print(df['DayOfWeek'].unique())"
   ]
  },
  {
   "cell_type": "code",
   "execution_count": 44,
   "id": "bf0d7e0e-2619-4912-9871-ac14ddb145e0",
   "metadata": {},
   "outputs": [
    {
     "data": {
      "text/html": [
       "<div>\n",
       "<style scoped>\n",
       "    .dataframe tbody tr th:only-of-type {\n",
       "        vertical-align: middle;\n",
       "    }\n",
       "\n",
       "    .dataframe tbody tr th {\n",
       "        vertical-align: top;\n",
       "    }\n",
       "\n",
       "    .dataframe thead th {\n",
       "        text-align: right;\n",
       "    }\n",
       "</style>\n",
       "<table border=\"1\" class=\"dataframe\">\n",
       "  <thead>\n",
       "    <tr style=\"text-align: right;\">\n",
       "      <th></th>\n",
       "      <th>Timestamp</th>\n",
       "      <th>Temperature</th>\n",
       "      <th>Humidity</th>\n",
       "      <th>SquareFootage</th>\n",
       "      <th>Occupancy</th>\n",
       "      <th>HVACUsage</th>\n",
       "      <th>LightingUsage</th>\n",
       "      <th>RenewableEnergy</th>\n",
       "      <th>DayOfWeek</th>\n",
       "      <th>Holiday</th>\n",
       "      <th>EnergyConsumption</th>\n",
       "    </tr>\n",
       "  </thead>\n",
       "  <tbody>\n",
       "    <tr>\n",
       "      <th>0</th>\n",
       "      <td>2022-01-01 00:00:00</td>\n",
       "      <td>25.139433</td>\n",
       "      <td>43.431581</td>\n",
       "      <td>1565.693999</td>\n",
       "      <td>5</td>\n",
       "      <td>1</td>\n",
       "      <td>0</td>\n",
       "      <td>2.774699</td>\n",
       "      <td>1</td>\n",
       "      <td>0</td>\n",
       "      <td>75.364373</td>\n",
       "    </tr>\n",
       "    <tr>\n",
       "      <th>1</th>\n",
       "      <td>2022-01-01 01:00:00</td>\n",
       "      <td>27.731651</td>\n",
       "      <td>54.225919</td>\n",
       "      <td>1411.064918</td>\n",
       "      <td>1</td>\n",
       "      <td>1</td>\n",
       "      <td>1</td>\n",
       "      <td>21.831384</td>\n",
       "      <td>0</td>\n",
       "      <td>0</td>\n",
       "      <td>83.401855</td>\n",
       "    </tr>\n",
       "  </tbody>\n",
       "</table>\n",
       "</div>"
      ],
      "text/plain": [
       "             Timestamp  Temperature   Humidity  SquareFootage  Occupancy  \\\n",
       "0  2022-01-01 00:00:00    25.139433  43.431581    1565.693999          5   \n",
       "1  2022-01-01 01:00:00    27.731651  54.225919    1411.064918          1   \n",
       "\n",
       "   HVACUsage  LightingUsage  RenewableEnergy  DayOfWeek  Holiday  \\\n",
       "0          1              0         2.774699          1        0   \n",
       "1          1              1        21.831384          0        0   \n",
       "\n",
       "   EnergyConsumption  \n",
       "0          75.364373  \n",
       "1          83.401855  "
      ]
     },
     "execution_count": 44,
     "metadata": {},
     "output_type": "execute_result"
    }
   ],
   "source": [
    "df.head(2)"
   ]
  },
  {
   "cell_type": "code",
   "execution_count": 29,
   "id": "af67bc34-61dc-4bc6-a348-22430909357f",
   "metadata": {},
   "outputs": [
    {
     "data": {
      "text/plain": [
       "Timestamp            0\n",
       "Temperature          0\n",
       "Humidity             0\n",
       "SquareFootage        0\n",
       "Occupancy            0\n",
       "HVACUsage            0\n",
       "LightingUsage        0\n",
       "RenewableEnergy      0\n",
       "DayOfWeek            0\n",
       "Holiday              0\n",
       "EnergyConsumption    0\n",
       "dtype: int64"
      ]
     },
     "execution_count": 29,
     "metadata": {},
     "output_type": "execute_result"
    }
   ],
   "source": [
    "df.isnull().sum()"
   ]
  },
  {
   "cell_type": "code",
   "execution_count": 30,
   "id": "b71e0f33-21c3-49bd-af7a-682a3a97b9e9",
   "metadata": {},
   "outputs": [
    {
     "data": {
      "text/plain": [
       "np.int64(0)"
      ]
     },
     "execution_count": 30,
     "metadata": {},
     "output_type": "execute_result"
    }
   ],
   "source": [
    "df.duplicated().sum()"
   ]
  },
  {
   "cell_type": "code",
   "execution_count": 69,
   "id": "7fa9b218-22f0-461e-aeb6-a93ce85f614d",
   "metadata": {},
   "outputs": [
    {
     "data": {
      "text/html": [
       "<div>\n",
       "<style scoped>\n",
       "    .dataframe tbody tr th:only-of-type {\n",
       "        vertical-align: middle;\n",
       "    }\n",
       "\n",
       "    .dataframe tbody tr th {\n",
       "        vertical-align: top;\n",
       "    }\n",
       "\n",
       "    .dataframe thead th {\n",
       "        text-align: right;\n",
       "    }\n",
       "</style>\n",
       "<table border=\"1\" class=\"dataframe\">\n",
       "  <thead>\n",
       "    <tr style=\"text-align: right;\">\n",
       "      <th></th>\n",
       "      <th>Temperature</th>\n",
       "      <th>Humidity</th>\n",
       "      <th>SquareFootage</th>\n",
       "      <th>Occupancy</th>\n",
       "      <th>HVACUsage</th>\n",
       "      <th>LightingUsage</th>\n",
       "      <th>RenewableEnergy</th>\n",
       "      <th>DayOfWeek</th>\n",
       "      <th>Holiday</th>\n",
       "      <th>EnergyConsumption</th>\n",
       "    </tr>\n",
       "  </thead>\n",
       "  <tbody>\n",
       "    <tr>\n",
       "      <th>count</th>\n",
       "      <td>1000.000000</td>\n",
       "      <td>1000.000000</td>\n",
       "      <td>1000.000000</td>\n",
       "      <td>1000.000000</td>\n",
       "      <td>1000.000000</td>\n",
       "      <td>1000.000000</td>\n",
       "      <td>1000.000000</td>\n",
       "      <td>1000.000000</td>\n",
       "      <td>1000.000000</td>\n",
       "      <td>1000.000000</td>\n",
       "    </tr>\n",
       "    <tr>\n",
       "      <th>mean</th>\n",
       "      <td>24.982026</td>\n",
       "      <td>45.395412</td>\n",
       "      <td>1500.052488</td>\n",
       "      <td>4.581000</td>\n",
       "      <td>0.492000</td>\n",
       "      <td>0.491000</td>\n",
       "      <td>15.132813</td>\n",
       "      <td>3.049000</td>\n",
       "      <td>0.467000</td>\n",
       "      <td>77.055873</td>\n",
       "    </tr>\n",
       "    <tr>\n",
       "      <th>std</th>\n",
       "      <td>2.836850</td>\n",
       "      <td>8.518905</td>\n",
       "      <td>288.418873</td>\n",
       "      <td>2.865598</td>\n",
       "      <td>0.500186</td>\n",
       "      <td>0.500169</td>\n",
       "      <td>8.745917</td>\n",
       "      <td>2.028476</td>\n",
       "      <td>0.499159</td>\n",
       "      <td>8.144112</td>\n",
       "    </tr>\n",
       "    <tr>\n",
       "      <th>min</th>\n",
       "      <td>20.007565</td>\n",
       "      <td>30.015975</td>\n",
       "      <td>1000.512661</td>\n",
       "      <td>0.000000</td>\n",
       "      <td>0.000000</td>\n",
       "      <td>0.000000</td>\n",
       "      <td>0.006642</td>\n",
       "      <td>0.000000</td>\n",
       "      <td>0.000000</td>\n",
       "      <td>53.263278</td>\n",
       "    </tr>\n",
       "    <tr>\n",
       "      <th>25%</th>\n",
       "      <td>22.645070</td>\n",
       "      <td>38.297722</td>\n",
       "      <td>1247.108548</td>\n",
       "      <td>2.000000</td>\n",
       "      <td>0.000000</td>\n",
       "      <td>0.000000</td>\n",
       "      <td>7.628385</td>\n",
       "      <td>1.000000</td>\n",
       "      <td>0.000000</td>\n",
       "      <td>71.544690</td>\n",
       "    </tr>\n",
       "    <tr>\n",
       "      <th>50%</th>\n",
       "      <td>24.751637</td>\n",
       "      <td>45.972116</td>\n",
       "      <td>1507.967426</td>\n",
       "      <td>5.000000</td>\n",
       "      <td>0.000000</td>\n",
       "      <td>0.000000</td>\n",
       "      <td>15.072296</td>\n",
       "      <td>3.000000</td>\n",
       "      <td>0.000000</td>\n",
       "      <td>76.943696</td>\n",
       "    </tr>\n",
       "    <tr>\n",
       "      <th>75%</th>\n",
       "      <td>27.418174</td>\n",
       "      <td>52.420066</td>\n",
       "      <td>1740.340165</td>\n",
       "      <td>7.000000</td>\n",
       "      <td>1.000000</td>\n",
       "      <td>1.000000</td>\n",
       "      <td>22.884064</td>\n",
       "      <td>5.000000</td>\n",
       "      <td>1.000000</td>\n",
       "      <td>82.921742</td>\n",
       "    </tr>\n",
       "    <tr>\n",
       "      <th>max</th>\n",
       "      <td>29.998671</td>\n",
       "      <td>59.969085</td>\n",
       "      <td>1999.982252</td>\n",
       "      <td>9.000000</td>\n",
       "      <td>1.000000</td>\n",
       "      <td>1.000000</td>\n",
       "      <td>29.965327</td>\n",
       "      <td>6.000000</td>\n",
       "      <td>1.000000</td>\n",
       "      <td>99.201120</td>\n",
       "    </tr>\n",
       "  </tbody>\n",
       "</table>\n",
       "</div>"
      ],
      "text/plain": [
       "       Temperature     Humidity  SquareFootage    Occupancy    HVACUsage  \\\n",
       "count  1000.000000  1000.000000    1000.000000  1000.000000  1000.000000   \n",
       "mean     24.982026    45.395412    1500.052488     4.581000     0.492000   \n",
       "std       2.836850     8.518905     288.418873     2.865598     0.500186   \n",
       "min      20.007565    30.015975    1000.512661     0.000000     0.000000   \n",
       "25%      22.645070    38.297722    1247.108548     2.000000     0.000000   \n",
       "50%      24.751637    45.972116    1507.967426     5.000000     0.000000   \n",
       "75%      27.418174    52.420066    1740.340165     7.000000     1.000000   \n",
       "max      29.998671    59.969085    1999.982252     9.000000     1.000000   \n",
       "\n",
       "       LightingUsage  RenewableEnergy    DayOfWeek      Holiday  \\\n",
       "count    1000.000000      1000.000000  1000.000000  1000.000000   \n",
       "mean        0.491000        15.132813     3.049000     0.467000   \n",
       "std         0.500169         8.745917     2.028476     0.499159   \n",
       "min         0.000000         0.006642     0.000000     0.000000   \n",
       "25%         0.000000         7.628385     1.000000     0.000000   \n",
       "50%         0.000000        15.072296     3.000000     0.000000   \n",
       "75%         1.000000        22.884064     5.000000     1.000000   \n",
       "max         1.000000        29.965327     6.000000     1.000000   \n",
       "\n",
       "       EnergyConsumption  \n",
       "count        1000.000000  \n",
       "mean           77.055873  \n",
       "std             8.144112  \n",
       "min            53.263278  \n",
       "25%            71.544690  \n",
       "50%            76.943696  \n",
       "75%            82.921742  \n",
       "max            99.201120  "
      ]
     },
     "execution_count": 69,
     "metadata": {},
     "output_type": "execute_result"
    }
   ],
   "source": [
    "df.describe()"
   ]
  },
  {
   "cell_type": "code",
   "execution_count": 32,
   "id": "64f0ee23-298d-4d61-8b16-f96021f0b3d6",
   "metadata": {},
   "outputs": [
    {
     "data": {
      "text/plain": [
       "Text(0, 0.5, 'EnergyConsumption')"
      ]
     },
     "execution_count": 32,
     "metadata": {},
     "output_type": "execute_result"
    },
    {
     "data": {
      "image/png": "[encoded data removed]",
      "text/plain": [
       "<Figure size 640x480 with 1 Axes>"
      ]
     },
     "metadata": {},
     "output_type": "display_data"
    }
   ],
   "source": [
    "plt.scatter(x=df['Temperature'], y= df['EnergyConsumption'])\n",
    "plt.xlabel('Temperature')\n",
    "plt.ylabel('EnergyConsumption')"
   ]
  },
  {
   "cell_type": "code",
   "execution_count": 33,
   "id": "8bd56673-2cd7-43e1-b7e8-22611ffd92e4",
   "metadata": {},
   "outputs": [
    {
     "data": {
      "text/plain": [
       "Text(0, 0.5, 'EnergyConsumption')"
      ]
     },
     "execution_count": 33,
     "metadata": {},
     "output_type": "execute_result"
    },
    {
     "data": {
      "image/png": "[encoded data removed]",
      "text/plain": [
       "<Figure size 640x480 with 1 Axes>"
      ]
     },
     "metadata": {},
     "output_type": "display_data"
    }
   ],
   "source": [
    "plt.scatter(x=df['Occupancy'], y= df['EnergyConsumption'])\n",
    "plt.xlabel('Occupancy')\n",
    "plt.ylabel('EnergyConsumption')"
   ]
  },
  {
   "cell_type": "code",
   "execution_count": 102,
   "id": "0f840d81-57e4-4b60-9f34-b11e80942520",
   "metadata": {},
   "outputs": [
    {
     "data": {
      "text/plain": [
       "<Axes: xlabel='EnergyConsumption'>"
      ]
     },
     "execution_count": 102,
     "metadata": {},
     "output_type": "execute_result"
    },
    {
     "data": {
      "image/png": "[encoded data removed]",
      "text/plain": [
       "<Figure size 640x480 with 1 Axes>"
      ]
     },
     "metadata": {},
     "output_type": "display_data"
    }
   ],
   "source": [
    "import seaborn as sns\n",
    "sns.boxplot(x = df['EnergyConsumption'])"
   ]
  },
  {
   "cell_type": "code",
   "execution_count": 122,
   "id": "29eb8236-6614-4310-b435-5d87436c7c19",
   "metadata": {},
   "outputs": [
    {
     "data": {
      "text/plain": [
       "<Axes: xlabel='SquareFootage'>"
      ]
     },
     "execution_count": 122,
     "metadata": {},
     "output_type": "execute_result"
    },
    {
     "data": {
      "image/png": "[encoded data removed]",
      "text/plain": [
       "<Figure size 640x480 with 1 Axes>"
      ]
     },
     "metadata": {},
     "output_type": "display_data"
    }
   ],
   "source": [
    "import seaborn as sns\n",
    "sns.boxplot(x = df['SquareFootage'])"
   ]
  },
  {
   "cell_type": "code",
   "execution_count": 119,
   "id": "3360767a-33c1-4e70-aa12-4112eb001601",
   "metadata": {},
   "outputs": [],
   "source": [
    "Q1_energy = df['EnergyConsumption'].quantile(0.25)  # First quartile\n",
    "Q3_energy = df['EnergyConsumption'].quantile(0.75)  # Third quartile\n",
    "IQR_energy = Q3_energy - Q1_energy  # Interquartile range\n",
    "\n",
    "# Define lower and upper bounds\n",
    "lower_bound_energy = Q1_energy - 1.5 * IQR_energy\n",
    "upper_bound_energy = Q3_energy + 1.5 * IQR_energy\n",
    "df = df[(df['EnergyConsumption'] >= lower_bound_energy) & (df['EnergyConsumption'] <= upper_bound_energy)]"
   ]
  },
  {
   "cell_type": "code",
   "execution_count": 120,
   "id": "6b04d1ae-ff18-4c65-b1a4-3655b342133e",
   "metadata": {},
   "outputs": [
    {
     "data": {
      "text/plain": [
       "<Axes: xlabel='Temperature'>"
      ]
     },
     "execution_count": 120,
     "metadata": {},
     "output_type": "execute_result"
    },
    {
     "data": {
      "image/png": "[encoded data removed]",
      "text/plain": [
       "<Figure size 640x480 with 1 Axes>"
      ]
     },
     "metadata": {},
     "output_type": "display_data"
    }
   ],
   "source": [
    "import seaborn as sns\n",
    "sns.boxplot(x = df['Temperature'])"
   ]
  },
  {
   "cell_type": "code",
   "execution_count": 121,
   "id": "08ea2258-dfec-4f39-bd46-f59fc390ebb5",
   "metadata": {},
   "outputs": [
    {
     "data": {
      "text/plain": [
       "<Axes: xlabel='Humidity'>"
      ]
     },
     "execution_count": 121,
     "metadata": {},
     "output_type": "execute_result"
    },
    {
     "data": {
      "image/png": "[encoded data removed]",
      "text/plain": [
       "<Figure size 640x480 with 1 Axes>"
      ]
     },
     "metadata": {},
     "output_type": "display_data"
    }
   ],
   "source": [
    "import seaborn as sns\n",
    "sns.boxplot(x = df['Humidity'])"
   ]
  },
  {
   "cell_type": "code",
   "execution_count": 111,
   "id": "87e39c4c-553a-4e55-9bd8-27bce81f7253",
   "metadata": {},
   "outputs": [
    {
     "data": {
      "image/png": "[encoded data removed]",
      "text/plain": [
       "<Figure size 640x480 with 1 Axes>"
      ]
     },
     "metadata": {},
     "output_type": "display_data"
    },
    {
     "data": {
      "text/plain": [
       "[<matplotlib.lines.Line2D at 0x200ffde0d40>]"
      ]
     },
     "execution_count": 111,
     "metadata": {},
     "output_type": "execute_result"
    },
    {
     "data": {
      "image/png": "[encoded data removed]",
      "text/plain": [
       "<Figure size 640x480 with 1 Axes>"
      ]
     },
     "metadata": {},
     "output_type": "display_data"
    }
   ],
   "source": [
    "from scipy.stats import norm\n",
    "plt.hist(df['EnergyConsumption'], bins=30, edgecolor='k', density=True)\n",
    "plt.title(\"Histogram of Energy Consumption\")\n",
    "plt.show()\n",
    "rng = np.arange(df.EnergyConsumption.min(), df.EnergyConsumption.max(), 0.1) \n",
    "plt.plot(rng, norm.pdf(rng, df.EnergyConsumption.mean(), df.EnergyConsumption.std()))"
   ]
  },
  {
   "cell_type": "code",
   "execution_count": 123,
   "id": "20f88db7-0874-4f83-afae-8a41dcb8d359",
   "metadata": {},
   "outputs": [
    {
     "data": {
      "text/html": [
       "<div>\n",
       "<style scoped>\n",
       "    .dataframe tbody tr th:only-of-type {\n",
       "        vertical-align: middle;\n",
       "    }\n",
       "\n",
       "    .dataframe tbody tr th {\n",
       "        vertical-align: top;\n",
       "    }\n",
       "\n",
       "    .dataframe thead th {\n",
       "        text-align: right;\n",
       "    }\n",
       "</style>\n",
       "<table border=\"1\" class=\"dataframe\">\n",
       "  <thead>\n",
       "    <tr style=\"text-align: right;\">\n",
       "      <th></th>\n",
       "      <th>Temperature</th>\n",
       "      <th>Humidity</th>\n",
       "      <th>SquareFootage</th>\n",
       "      <th>Occupancy</th>\n",
       "      <th>HVACUsage</th>\n",
       "      <th>LightingUsage</th>\n",
       "      <th>RenewableEnergy</th>\n",
       "      <th>DayOfWeek</th>\n",
       "      <th>Holiday</th>\n",
       "      <th>EnergyConsumption</th>\n",
       "    </tr>\n",
       "  </thead>\n",
       "  <tbody>\n",
       "    <tr>\n",
       "      <th>Temperature</th>\n",
       "      <td>1.000000</td>\n",
       "      <td>-0.033524</td>\n",
       "      <td>0.006312</td>\n",
       "      <td>-0.003799</td>\n",
       "      <td>-0.000239</td>\n",
       "      <td>0.010990</td>\n",
       "      <td>-0.002354</td>\n",
       "      <td>0.002444</td>\n",
       "      <td>0.025530</td>\n",
       "      <td>0.695788</td>\n",
       "    </tr>\n",
       "    <tr>\n",
       "      <th>Humidity</th>\n",
       "      <td>-0.033524</td>\n",
       "      <td>1.000000</td>\n",
       "      <td>-0.015089</td>\n",
       "      <td>0.004841</td>\n",
       "      <td>-0.093709</td>\n",
       "      <td>-0.022592</td>\n",
       "      <td>0.002297</td>\n",
       "      <td>-0.003666</td>\n",
       "      <td>-0.033407</td>\n",
       "      <td>-0.092918</td>\n",
       "    </tr>\n",
       "    <tr>\n",
       "      <th>SquareFootage</th>\n",
       "      <td>0.006312</td>\n",
       "      <td>-0.015089</td>\n",
       "      <td>1.000000</td>\n",
       "      <td>0.009940</td>\n",
       "      <td>0.019416</td>\n",
       "      <td>-0.018127</td>\n",
       "      <td>0.022997</td>\n",
       "      <td>0.004650</td>\n",
       "      <td>-0.026887</td>\n",
       "      <td>0.002298</td>\n",
       "    </tr>\n",
       "    <tr>\n",
       "      <th>Occupancy</th>\n",
       "      <td>-0.003799</td>\n",
       "      <td>0.004841</td>\n",
       "      <td>0.009940</td>\n",
       "      <td>1.000000</td>\n",
       "      <td>0.012481</td>\n",
       "      <td>-0.011862</td>\n",
       "      <td>0.013547</td>\n",
       "      <td>0.004422</td>\n",
       "      <td>0.029687</td>\n",
       "      <td>0.186791</td>\n",
       "    </tr>\n",
       "    <tr>\n",
       "      <th>HVACUsage</th>\n",
       "      <td>-0.000239</td>\n",
       "      <td>-0.093709</td>\n",
       "      <td>0.019416</td>\n",
       "      <td>0.012481</td>\n",
       "      <td>1.000000</td>\n",
       "      <td>-0.049349</td>\n",
       "      <td>0.015572</td>\n",
       "      <td>0.008742</td>\n",
       "      <td>0.032128</td>\n",
       "      <td>0.284944</td>\n",
       "    </tr>\n",
       "    <tr>\n",
       "      <th>LightingUsage</th>\n",
       "      <td>0.010990</td>\n",
       "      <td>-0.022592</td>\n",
       "      <td>-0.018127</td>\n",
       "      <td>-0.011862</td>\n",
       "      <td>-0.049349</td>\n",
       "      <td>1.000000</td>\n",
       "      <td>-0.028635</td>\n",
       "      <td>0.000935</td>\n",
       "      <td>0.043909</td>\n",
       "      <td>0.096868</td>\n",
       "    </tr>\n",
       "    <tr>\n",
       "      <th>RenewableEnergy</th>\n",
       "      <td>-0.002354</td>\n",
       "      <td>0.002297</td>\n",
       "      <td>0.022997</td>\n",
       "      <td>0.013547</td>\n",
       "      <td>0.015572</td>\n",
       "      <td>-0.028635</td>\n",
       "      <td>1.000000</td>\n",
       "      <td>-0.006061</td>\n",
       "      <td>-0.036541</td>\n",
       "      <td>0.079565</td>\n",
       "    </tr>\n",
       "    <tr>\n",
       "      <th>DayOfWeek</th>\n",
       "      <td>0.002444</td>\n",
       "      <td>-0.003666</td>\n",
       "      <td>0.004650</td>\n",
       "      <td>0.004422</td>\n",
       "      <td>0.008742</td>\n",
       "      <td>0.000935</td>\n",
       "      <td>-0.006061</td>\n",
       "      <td>1.000000</td>\n",
       "      <td>-0.022730</td>\n",
       "      <td>0.018914</td>\n",
       "    </tr>\n",
       "    <tr>\n",
       "      <th>Holiday</th>\n",
       "      <td>0.025530</td>\n",
       "      <td>-0.033407</td>\n",
       "      <td>-0.026887</td>\n",
       "      <td>0.029687</td>\n",
       "      <td>0.032128</td>\n",
       "      <td>0.043909</td>\n",
       "      <td>-0.036541</td>\n",
       "      <td>-0.022730</td>\n",
       "      <td>1.000000</td>\n",
       "      <td>0.054193</td>\n",
       "    </tr>\n",
       "    <tr>\n",
       "      <th>EnergyConsumption</th>\n",
       "      <td>0.695788</td>\n",
       "      <td>-0.092918</td>\n",
       "      <td>0.002298</td>\n",
       "      <td>0.186791</td>\n",
       "      <td>0.284944</td>\n",
       "      <td>0.096868</td>\n",
       "      <td>0.079565</td>\n",
       "      <td>0.018914</td>\n",
       "      <td>0.054193</td>\n",
       "      <td>1.000000</td>\n",
       "    </tr>\n",
       "  </tbody>\n",
       "</table>\n",
       "</div>"
      ],
      "text/plain": [
       "                   Temperature  Humidity  SquareFootage  Occupancy  HVACUsage  \\\n",
       "Temperature           1.000000 -0.033524       0.006312  -0.003799  -0.000239   \n",
       "Humidity             -0.033524  1.000000      -0.015089   0.004841  -0.093709   \n",
       "SquareFootage         0.006312 -0.015089       1.000000   0.009940   0.019416   \n",
       "Occupancy            -0.003799  0.004841       0.009940   1.000000   0.012481   \n",
       "HVACUsage            -0.000239 -0.093709       0.019416   0.012481   1.000000   \n",
       "LightingUsage         0.010990 -0.022592      -0.018127  -0.011862  -0.049349   \n",
       "RenewableEnergy      -0.002354  0.002297       0.022997   0.013547   0.015572   \n",
       "DayOfWeek             0.002444 -0.003666       0.004650   0.004422   0.008742   \n",
       "Holiday               0.025530 -0.033407      -0.026887   0.029687   0.032128   \n",
       "EnergyConsumption     0.695788 -0.092918       0.002298   0.186791   0.284944   \n",
       "\n",
       "                   LightingUsage  RenewableEnergy  DayOfWeek   Holiday  \\\n",
       "Temperature             0.010990        -0.002354   0.002444  0.025530   \n",
       "Humidity               -0.022592         0.002297  -0.003666 -0.033407   \n",
       "SquareFootage          -0.018127         0.022997   0.004650 -0.026887   \n",
       "Occupancy              -0.011862         0.013547   0.004422  0.029687   \n",
       "HVACUsage              -0.049349         0.015572   0.008742  0.032128   \n",
       "LightingUsage           1.000000        -0.028635   0.000935  0.043909   \n",
       "RenewableEnergy        -0.028635         1.000000  -0.006061 -0.036541   \n",
       "DayOfWeek               0.000935        -0.006061   1.000000 -0.022730   \n",
       "Holiday                 0.043909        -0.036541  -0.022730  1.000000   \n",
       "EnergyConsumption       0.096868         0.079565   0.018914  0.054193   \n",
       "\n",
       "                   EnergyConsumption  \n",
       "Temperature                 0.695788  \n",
       "Humidity                   -0.092918  \n",
       "SquareFootage               0.002298  \n",
       "Occupancy                   0.186791  \n",
       "HVACUsage                   0.284944  \n",
       "LightingUsage               0.096868  \n",
       "RenewableEnergy             0.079565  \n",
       "DayOfWeek                   0.018914  \n",
       "Holiday                     0.054193  \n",
       "EnergyConsumption           1.000000  "
      ]
     },
     "execution_count": 123,
     "metadata": {},
     "output_type": "execute_result"
    }
   ],
   "source": [
    "df.drop(columns = ['Timestamp']).corr()"
   ]
  },
  {
   "cell_type": "code",
   "execution_count": 124,
   "id": "ebb1f5c2-41d9-4c61-a041-6e0b994efbec",
   "metadata": {},
   "outputs": [],
   "source": [
    "from sklearn.preprocessing import MinMaxScaler\n",
    "scaler = MinMaxScaler()\n",
    "y = df['EnergyConsumption']\n",
    "X = scaler.fit_transform(df[['Temperature', 'Occupancy', 'HVACUsage']])"
   ]
  },
  {
   "cell_type": "code",
   "execution_count": 125,
   "id": "a8791c5f-47ae-4707-8300-4e03f2e37bea",
   "metadata": {},
   "outputs": [
    {
     "data": {
      "text/plain": [
       "array([[0.51364368, 0.55555556, 1.        ],\n",
       "       [0.77309615, 0.11111111, 1.        ],\n",
       "       [0.87044537, 0.22222222, 0.        ],\n",
       "       ...,\n",
       "       [0.30004438, 0.66666667, 0.        ],\n",
       "       [0.51353673, 0.33333333, 1.        ],\n",
       "       [0.30463092, 0.66666667, 0.        ]])"
      ]
     },
     "execution_count": 125,
     "metadata": {},
     "output_type": "execute_result"
    }
   ],
   "source": [
    "X"
   ]
  },
  {
   "cell_type": "code",
   "execution_count": 126,
   "id": "c33a8117-f094-4253-bf30-38e0760cd6ff",
   "metadata": {},
   "outputs": [],
   "source": [
    "X = pd.DataFrame(data=X, columns=['Temperature', 'Occupancy', 'HVACUsage'])"
   ]
  },
  {
   "cell_type": "code",
   "execution_count": 127,
   "id": "d43eb570-bbf0-40a3-b015-53565468caed",
   "metadata": {},
   "outputs": [
    {
     "data": {
      "text/html": [
       "<div>\n",
       "<style scoped>\n",
       "    .dataframe tbody tr th:only-of-type {\n",
       "        vertical-align: middle;\n",
       "    }\n",
       "\n",
       "    .dataframe tbody tr th {\n",
       "        vertical-align: top;\n",
       "    }\n",
       "\n",
       "    .dataframe thead th {\n",
       "        text-align: right;\n",
       "    }\n",
       "</style>\n",
       "<table border=\"1\" class=\"dataframe\">\n",
       "  <thead>\n",
       "    <tr style=\"text-align: right;\">\n",
       "      <th></th>\n",
       "      <th>Temperature</th>\n",
       "      <th>Occupancy</th>\n",
       "      <th>HVACUsage</th>\n",
       "    </tr>\n",
       "  </thead>\n",
       "  <tbody>\n",
       "    <tr>\n",
       "      <th>0</th>\n",
       "      <td>0.513644</td>\n",
       "      <td>0.555556</td>\n",
       "      <td>1.0</td>\n",
       "    </tr>\n",
       "    <tr>\n",
       "      <th>1</th>\n",
       "      <td>0.773096</td>\n",
       "      <td>0.111111</td>\n",
       "      <td>1.0</td>\n",
       "    </tr>\n",
       "  </tbody>\n",
       "</table>\n",
       "</div>"
      ],
      "text/plain": [
       "   Temperature  Occupancy  HVACUsage\n",
       "0     0.513644   0.555556        1.0\n",
       "1     0.773096   0.111111        1.0"
      ]
     },
     "execution_count": 127,
     "metadata": {},
     "output_type": "execute_result"
    }
   ],
   "source": [
    "X.head(2)"
   ]
  },
  {
   "cell_type": "code",
   "execution_count": 128,
   "id": "0bec63b9-560d-4fae-918e-2cfa6d710679",
   "metadata": {},
   "outputs": [],
   "source": [
    "from sklearn.model_selection import train_test_split\n",
    "X_train, X_test, y_train, y_test = train_test_split(X, y, test_size=0.2, random_state = 40)"
   ]
  },
  {
   "cell_type": "code",
   "execution_count": 129,
   "id": "7d41955e-2128-403c-9fe3-684cf4796565",
   "metadata": {},
   "outputs": [],
   "source": [
    "from sklearn.svm import SVR\n",
    "from sklearn.linear_model import LinearRegression, Ridge\n",
    "from sklearn.ensemble import RandomForestRegressor, GradientBoostingRegressor\n",
    "from sklearn.model_selection import RandomizedSearchCV, GridSearchCV\n",
    "from xgboost import XGBRegressor"
   ]
  },
  {
   "cell_type": "code",
   "execution_count": 130,
   "id": "70842566-55df-4098-bea8-168d56500467",
   "metadata": {},
   "outputs": [],
   "source": [
    "model_params = {\n",
    "    'grad_boost': {\n",
    "        'model' : GradientBoostingRegressor(random_state=0),\n",
    "        'params' : {\n",
    "            'n_estimators' : [50,80,100,120],\n",
    "            'learning_rate' : [0.01, 0.1, 0.5],\n",
    "            'max_depth' : [3,4,5],\n",
    "            'min_samples_split': [2, 5, 10],\n",
    "            'min_samples_leaf': [1, 2, 5],\n",
    "            'subsample': [0.6, 0.8, 1.0]\n",
    "        }\n",
    "    },\n",
    "    'svm': {\n",
    "        'model' : SVR(gamma='auto'),\n",
    "        'params' : {\n",
    "            'C':[0.1,1,10,20, 25, 30],\n",
    "            'kernel':['rbf','linear'],\n",
    "            'epsilon': [0.01, 0.1, 1.0],\n",
    "            'gamma': [0.001, 0.01, 0.1, 1.0, 'scale']\n",
    "        }\n",
    "    },\n",
    "    'random_forest' : {\n",
    "        'model': RandomForestRegressor(),\n",
    "        'params': {\n",
    "            'n_estimators': [1,5,10,50],\n",
    "            'max_depth': [None, 10, 20, 30],\n",
    "            'min_samples_split': [2, 5, 10],\n",
    "            'min_samples_leaf': [1, 2, 5],\n",
    "            'max_features': ['sqrt', 'log2', None]\n",
    "        }\n",
    "    },\n",
    "    'Ridge': {\n",
    "        'model': Ridge(),\n",
    "        'params': {\n",
    "            'alpha': np.logspace(-4, 2, 50)  # Example parameter grid for Ridge\n",
    "        }\n",
    "    },\n",
    "    'linear_regression' : {\n",
    "        'model': LinearRegression(), \n",
    "        'params': {\n",
    "        }\n",
    "    },\n",
    "    'xgboost': {\n",
    "        'model': XGBRegressor(random_state=0),\n",
    "        'params': {\n",
    "            'n_estimators': [50, 100, 150, 200],\n",
    "            'learning_rate': [0.01, 0.1, 0.2],\n",
    "            'max_depth': [3, 5, 7],\n",
    "            'subsample': [0.6, 0.8, 1.0],\n",
    "            'colsample_bytree': [0.6, 0.8, 1.0],\n",
    "            'reg_alpha': [0, 0.1, 1],\n",
    "            'reg_lambda': [1, 1.5, 2]\n",
    "        }\n",
    "    }\n",
    "}"
   ]
  },
  {
   "cell_type": "code",
   "execution_count": 131,
   "id": "a650d5cb-61b0-432e-8c3c-5542f54d7f31",
   "metadata": {},
   "outputs": [
    {
     "name": "stderr",
     "output_type": "stream",
     "text": [
      "C:\\Users\\abcde\\AppData\\Roaming\\Python\\Python312\\site-packages\\sklearn\\model_selection\\_search.py:320: UserWarning: The total space of parameters 1 is smaller than n_iter=10. Running 1 iterations. For exhaustive searches, use GridSearchCV.\n",
      "  warnings.warn(\n"
     ]
    }
   ],
   "source": [
    "scores_3 = []\n",
    "for model_name, mp in model_params.items():   # model_name is the key in dictionary and mp are the values which itself is \n",
    "    #dictionary containg model and params as values... .items() alows us to access both keys and values simultaneously in dictionary \n",
    "    clf = RandomizedSearchCV(mp['model'], mp['params'], cv=5)\n",
    "    clf.fit(X_train, y_train)\n",
    "    scores_3.append({\n",
    "        'model': model_name,\n",
    "        'best_score': clf.best_score_,\n",
    "        'best_params': clf.best_params_\n",
    "    }) "
   ]
  },
  {
   "cell_type": "code",
   "execution_count": 133,
   "id": "9f84bc9e-bff5-459e-ae24-b470380bf410",
   "metadata": {},
   "outputs": [
    {
     "data": {
      "text/html": [
       "<div>\n",
       "<style scoped>\n",
       "    .dataframe tbody tr th:only-of-type {\n",
       "        vertical-align: middle;\n",
       "    }\n",
       "\n",
       "    .dataframe tbody tr th {\n",
       "        vertical-align: top;\n",
       "    }\n",
       "\n",
       "    .dataframe thead th {\n",
       "        text-align: right;\n",
       "    }\n",
       "</style>\n",
       "<table border=\"1\" class=\"dataframe\">\n",
       "  <thead>\n",
       "    <tr style=\"text-align: right;\">\n",
       "      <th></th>\n",
       "      <th>model</th>\n",
       "      <th>best_score</th>\n",
       "      <th>best_params</th>\n",
       "    </tr>\n",
       "  </thead>\n",
       "  <tbody>\n",
       "    <tr>\n",
       "      <th>0</th>\n",
       "      <td>grad_boost</td>\n",
       "      <td>0.553561</td>\n",
       "      <td>{'subsample': 0.6, 'n_estimators': 120, 'min_s...</td>\n",
       "    </tr>\n",
       "    <tr>\n",
       "      <th>1</th>\n",
       "      <td>svm</td>\n",
       "      <td>0.594681</td>\n",
       "      <td>{'kernel': 'linear', 'gamma': 'scale', 'epsilo...</td>\n",
       "    </tr>\n",
       "    <tr>\n",
       "      <th>2</th>\n",
       "      <td>random_forest</td>\n",
       "      <td>0.569204</td>\n",
       "      <td>{'n_estimators': 50, 'min_samples_split': 5, '...</td>\n",
       "    </tr>\n",
       "    <tr>\n",
       "      <th>3</th>\n",
       "      <td>Ridge</td>\n",
       "      <td>0.595666</td>\n",
       "      <td>{'alpha': 0.0655128556859551}</td>\n",
       "    </tr>\n",
       "    <tr>\n",
       "      <th>4</th>\n",
       "      <td>linear_regression</td>\n",
       "      <td>0.595650</td>\n",
       "      <td>{}</td>\n",
       "    </tr>\n",
       "    <tr>\n",
       "      <th>5</th>\n",
       "      <td>xgboost</td>\n",
       "      <td>0.581051</td>\n",
       "      <td>{'subsample': 1.0, 'reg_lambda': 2, 'reg_alpha...</td>\n",
       "    </tr>\n",
       "  </tbody>\n",
       "</table>\n",
       "</div>"
      ],
      "text/plain": [
       "               model  best_score  \\\n",
       "0         grad_boost    0.553561   \n",
       "1                svm    0.594681   \n",
       "2      random_forest    0.569204   \n",
       "3              Ridge    0.595666   \n",
       "4  linear_regression    0.595650   \n",
       "5            xgboost    0.581051   \n",
       "\n",
       "                                         best_params  \n",
       "0  {'subsample': 0.6, 'n_estimators': 120, 'min_s...  \n",
       "1  {'kernel': 'linear', 'gamma': 'scale', 'epsilo...  \n",
       "2  {'n_estimators': 50, 'min_samples_split': 5, '...  \n",
       "3                      {'alpha': 0.0655128556859551}  \n",
       "4                                                 {}  \n",
       "5  {'subsample': 1.0, 'reg_lambda': 2, 'reg_alpha...  "
      ]
     },
     "execution_count": 133,
     "metadata": {},
     "output_type": "execute_result"
    }
   ],
   "source": [
    "scor_d_3 = pd.DataFrame(scores_3, columns = ['model', 'best_score', 'best_params'])                             \n",
    "scor_d_3"
   ]
  },
  {
   "cell_type": "code",
   "execution_count": 136,
   "id": "715c2b13-d766-40c5-8efa-061d0218bef9",
   "metadata": {},
   "outputs": [
    {
     "data": {
      "text/html": [
       "<style>#sk-container-id-1 {\n",
       "  /* Definition of color scheme common for light and dark mode */\n",
       "  --sklearn-color-text: black;\n",
       "  --sklearn-color-line: gray;\n",
       "  /* Definition of color scheme for unfitted estimators */\n",
       "  --sklearn-color-unfitted-level-0: #fff5e6;\n",
       "  --sklearn-color-unfitted-level-1: #f6e4d2;\n",
       "  --sklearn-color-unfitted-level-2: #ffe0b3;\n",
       "  --sklearn-color-unfitted-level-3: chocolate;\n",
       "  /* Definition of color scheme for fitted estimators */\n",
       "  --sklearn-color-fitted-level-0: #f0f8ff;\n",
       "  --sklearn-color-fitted-level-1: #d4ebff;\n",
       "  --sklearn-color-fitted-level-2: #b3dbfd;\n",
       "  --sklearn-color-fitted-level-3: cornflowerblue;\n",
       "\n",
       "  /* Specific color for light theme */\n",
       "  --sklearn-color-text-on-default-background: var(--sg-text-color, var(--theme-code-foreground, var(--jp-content-font-color1, black)));\n",
       "  --sklearn-color-background: var(--sg-background-color, var(--theme-background, var(--jp-layout-color0, white)));\n",
       "  --sklearn-color-border-box: var(--sg-text-color, var(--theme-code-foreground, var(--jp-content-font-color1, black)));\n",
       "  --sklearn-color-icon: #696969;\n",
       "\n",
       "  @media (prefers-color-scheme: dark) {\n",
       "    /* Redefinition of color scheme for dark theme */\n",
       "    --sklearn-color-text-on-default-background: var(--sg-text-color, var(--theme-code-foreground, var(--jp-content-font-color1, white)));\n",
       "    --sklearn-color-background: var(--sg-background-color, var(--theme-background, var(--jp-layout-color0, #111)));\n",
       "    --sklearn-color-border-box: var(--sg-text-color, var(--theme-code-foreground, var(--jp-content-font-color1, white)));\n",
       "    --sklearn-color-icon: #878787;\n",
       "  }\n",
       "}\n",
       "\n",
       "#sk-container-id-1 {\n",
       "  color: var(--sklearn-color-text);\n",
       "}\n",
       "\n",
       "#sk-container-id-1 pre {\n",
       "  padding: 0;\n",
       "}\n",
       "\n",
       "#sk-container-id-1 input.sk-hidden--visually {\n",
       "  border: 0;\n",
       "  clip: rect(1px 1px 1px 1px);\n",
       "  clip: rect(1px, 1px, 1px, 1px);\n",
       "  height: 1px;\n",
       "  margin: -1px;\n",
       "  overflow: hidden;\n",
       "  padding: 0;\n",
       "  position: absolute;\n",
       "  width: 1px;\n",
       "}\n",
       "\n",
       "#sk-container-id-1 div.sk-dashed-wrapped {\n",
       "  border: 1px dashed var(--sklearn-color-line);\n",
       "  margin: 0 0.4em 0.5em 0.4em;\n",
       "  box-sizing: border-box;\n",
       "  padding-bottom: 0.4em;\n",
       "  background-color: var(--sklearn-color-background);\n",
       "}\n",
       "\n",
       "#sk-container-id-1 div.sk-container {\n",
       "  /* jupyter's `normalize.less` sets `[hidden] { display: none; }`\n",
       "     but bootstrap.min.css set `[hidden] { display: none !important; }`\n",
       "     so we also need the `!important` here to be able to override the\n",
       "     default hidden behavior on the sphinx rendered scikit-learn.org.\n",
       "     See: https://github.com/scikit-learn/scikit-learn/issues/21755 */\n",
       "  display: inline-block !important;\n",
       "  position: relative;\n",
       "}\n",
       "\n",
       "#sk-container-id-1 div.sk-text-repr-fallback {\n",
       "  display: none;\n",
       "}\n",
       "\n",
       "div.sk-parallel-item,\n",
       "div.sk-serial,\n",
       "div.sk-item {\n",
       "  /* draw centered vertical line to link estimators */\n",
       "  background-image: linear-gradient(var(--sklearn-color-text-on-default-background), var(--sklearn-color-text-on-default-background));\n",
       "  background-size: 2px 100%;\n",
       "  background-repeat: no-repeat;\n",
       "  background-position: center center;\n",
       "}\n",
       "\n",
       "/* Parallel-specific style estimator block */\n",
       "\n",
       "#sk-container-id-1 div.sk-parallel-item::after {\n",
       "  content: \"\";\n",
       "  width: 100%;\n",
       "  border-bottom: 2px solid var(--sklearn-color-text-on-default-background);\n",
       "  flex-grow: 1;\n",
       "}\n",
       "\n",
       "#sk-container-id-1 div.sk-parallel {\n",
       "  display: flex;\n",
       "  align-items: stretch;\n",
       "  justify-content: center;\n",
       "  background-color: var(--sklearn-color-background);\n",
       "  position: relative;\n",
       "}\n",
       "\n",
       "#sk-container-id-1 div.sk-parallel-item {\n",
       "  display: flex;\n",
       "  flex-direction: column;\n",
       "}\n",
       "\n",
       "#sk-container-id-1 div.sk-parallel-item:first-child::after {\n",
       "  align-self: flex-end;\n",
       "  width: 50%;\n",
       "}\n",
       "\n",
       "#sk-container-id-1 div.sk-parallel-item:last-child::after {\n",
       "  align-self: flex-start;\n",
       "  width: 50%;\n",
       "}\n",
       "\n",
       "#sk-container-id-1 div.sk-parallel-item:only-child::after {\n",
       "  width: 0;\n",
       "}\n",
       "\n",
       "/* Serial-specific style estimator block */\n",
       "\n",
       "#sk-container-id-1 div.sk-serial {\n",
       "  display: flex;\n",
       "  flex-direction: column;\n",
       "  align-items: center;\n",
       "  background-color: var(--sklearn-color-background);\n",
       "  padding-right: 1em;\n",
       "  padding-left: 1em;\n",
       "}\n",
       "\n",
       "\n",
       "/* Toggleable style: style used for estimator/Pipeline/ColumnTransformer box that is\n",
       "clickable and can be expanded/collapsed.\n",
       "- Pipeline and ColumnTransformer use this feature and define the default style\n",
       "- Estimators will overwrite some part of the style using the `sk-estimator` class\n",
       "*/\n",
       "\n",
       "/* Pipeline and ColumnTransformer style (default) */\n",
       "\n",
       "#sk-container-id-1 div.sk-toggleable {\n",
       "  /* Default theme specific background. It is overwritten whether we have a\n",
       "  specific estimator or a Pipeline/ColumnTransformer */\n",
       "  background-color: var(--sklearn-color-background);\n",
       "}\n",
       "\n",
       "/* Toggleable label */\n",
       "#sk-container-id-1 label.sk-toggleable__label {\n",
       "  cursor: pointer;\n",
       "  display: block;\n",
       "  width: 100%;\n",
       "  margin-bottom: 0;\n",
       "  padding: 0.5em;\n",
       "  box-sizing: border-box;\n",
       "  text-align: center;\n",
       "}\n",
       "\n",
       "#sk-container-id-1 label.sk-toggleable__label-arrow:before {\n",
       "  /* Arrow on the left of the label */\n",
       "  content: \"▸\";\n",
       "  float: left;\n",
       "  margin-right: 0.25em;\n",
       "  color: var(--sklearn-color-icon);\n",
       "}\n",
       "\n",
       "#sk-container-id-1 label.sk-toggleable__label-arrow:hover:before {\n",
       "  color: var(--sklearn-color-text);\n",
       "}\n",
       "\n",
       "/* Toggleable content - dropdown */\n",
       "\n",
       "#sk-container-id-1 div.sk-toggleable__content {\n",
       "  max-height: 0;\n",
       "  max-width: 0;\n",
       "  overflow: hidden;\n",
       "  text-align: left;\n",
       "  /* unfitted */\n",
       "  background-color: var(--sklearn-color-unfitted-level-0);\n",
       "}\n",
       "\n",
       "#sk-container-id-1 div.sk-toggleable__content.fitted {\n",
       "  /* fitted */\n",
       "  background-color: var(--sklearn-color-fitted-level-0);\n",
       "}\n",
       "\n",
       "#sk-container-id-1 div.sk-toggleable__content pre {\n",
       "  margin: 0.2em;\n",
       "  border-radius: 0.25em;\n",
       "  color: var(--sklearn-color-text);\n",
       "  /* unfitted */\n",
       "  background-color: var(--sklearn-color-unfitted-level-0);\n",
       "}\n",
       "\n",
       "#sk-container-id-1 div.sk-toggleable__content.fitted pre {\n",
       "  /* unfitted */\n",
       "  background-color: var(--sklearn-color-fitted-level-0);\n",
       "}\n",
       "\n",
       "#sk-container-id-1 input.sk-toggleable__control:checked~div.sk-toggleable__content {\n",
       "  /* Expand drop-down */\n",
       "  max-height: 200px;\n",
       "  max-width: 100%;\n",
       "  overflow: auto;\n",
       "}\n",
       "\n",
       "#sk-container-id-1 input.sk-toggleable__control:checked~label.sk-toggleable__label-arrow:before {\n",
       "  content: \"▾\";\n",
       "}\n",
       "\n",
       "/* Pipeline/ColumnTransformer-specific style */\n",
       "\n",
       "#sk-container-id-1 div.sk-label input.sk-toggleable__control:checked~label.sk-toggleable__label {\n",
       "  color: var(--sklearn-color-text);\n",
       "  background-color: var(--sklearn-color-unfitted-level-2);\n",
       "}\n",
       "\n",
       "#sk-container-id-1 div.sk-label.fitted input.sk-toggleable__control:checked~label.sk-toggleable__label {\n",
       "  background-color: var(--sklearn-color-fitted-level-2);\n",
       "}\n",
       "\n",
       "/* Estimator-specific style */\n",
       "\n",
       "/* Colorize estimator box */\n",
       "#sk-container-id-1 div.sk-estimator input.sk-toggleable__control:checked~label.sk-toggleable__label {\n",
       "  /* unfitted */\n",
       "  background-color: var(--sklearn-color-unfitted-level-2);\n",
       "}\n",
       "\n",
       "#sk-container-id-1 div.sk-estimator.fitted input.sk-toggleable__control:checked~label.sk-toggleable__label {\n",
       "  /* fitted */\n",
       "  background-color: var(--sklearn-color-fitted-level-2);\n",
       "}\n",
       "\n",
       "#sk-container-id-1 div.sk-label label.sk-toggleable__label,\n",
       "#sk-container-id-1 div.sk-label label {\n",
       "  /* The background is the default theme color */\n",
       "  color: var(--sklearn-color-text-on-default-background);\n",
       "}\n",
       "\n",
       "/* On hover, darken the color of the background */\n",
       "#sk-container-id-1 div.sk-label:hover label.sk-toggleable__label {\n",
       "  color: var(--sklearn-color-text);\n",
       "  background-color: var(--sklearn-color-unfitted-level-2);\n",
       "}\n",
       "\n",
       "/* Label box, darken color on hover, fitted */\n",
       "#sk-container-id-1 div.sk-label.fitted:hover label.sk-toggleable__label.fitted {\n",
       "  color: var(--sklearn-color-text);\n",
       "  background-color: var(--sklearn-color-fitted-level-2);\n",
       "}\n",
       "\n",
       "/* Estimator label */\n",
       "\n",
       "#sk-container-id-1 div.sk-label label {\n",
       "  font-family: monospace;\n",
       "  font-weight: bold;\n",
       "  display: inline-block;\n",
       "  line-height: 1.2em;\n",
       "}\n",
       "\n",
       "#sk-container-id-1 div.sk-label-container {\n",
       "  text-align: center;\n",
       "}\n",
       "\n",
       "/* Estimator-specific */\n",
       "#sk-container-id-1 div.sk-estimator {\n",
       "  font-family: monospace;\n",
       "  border: 1px dotted var(--sklearn-color-border-box);\n",
       "  border-radius: 0.25em;\n",
       "  box-sizing: border-box;\n",
       "  margin-bottom: 0.5em;\n",
       "  /* unfitted */\n",
       "  background-color: var(--sklearn-color-unfitted-level-0);\n",
       "}\n",
       "\n",
       "#sk-container-id-1 div.sk-estimator.fitted {\n",
       "  /* fitted */\n",
       "  background-color: var(--sklearn-color-fitted-level-0);\n",
       "}\n",
       "\n",
       "/* on hover */\n",
       "#sk-container-id-1 div.sk-estimator:hover {\n",
       "  /* unfitted */\n",
       "  background-color: var(--sklearn-color-unfitted-level-2);\n",
       "}\n",
       "\n",
       "#sk-container-id-1 div.sk-estimator.fitted:hover {\n",
       "  /* fitted */\n",
       "  background-color: var(--sklearn-color-fitted-level-2);\n",
       "}\n",
       "\n",
       "/* Specification for estimator info (e.g. \"i\" and \"?\") */\n",
       "\n",
       "/* Common style for \"i\" and \"?\" */\n",
       "\n",
       ".sk-estimator-doc-link,\n",
       "a:link.sk-estimator-doc-link,\n",
       "a:visited.sk-estimator-doc-link {\n",
       "  float: right;\n",
       "  font-size: smaller;\n",
       "  line-height: 1em;\n",
       "  font-family: monospace;\n",
       "  background-color: var(--sklearn-color-background);\n",
       "  border-radius: 1em;\n",
       "  height: 1em;\n",
       "  width: 1em;\n",
       "  text-decoration: none !important;\n",
       "  margin-left: 1ex;\n",
       "  /* unfitted */\n",
       "  border: var(--sklearn-color-unfitted-level-1) 1pt solid;\n",
       "  color: var(--sklearn-color-unfitted-level-1);\n",
       "}\n",
       "\n",
       ".sk-estimator-doc-link.fitted,\n",
       "a:link.sk-estimator-doc-link.fitted,\n",
       "a:visited.sk-estimator-doc-link.fitted {\n",
       "  /* fitted */\n",
       "  border: var(--sklearn-color-fitted-level-1) 1pt solid;\n",
       "  color: var(--sklearn-color-fitted-level-1);\n",
       "}\n",
       "\n",
       "/* On hover */\n",
       "div.sk-estimator:hover .sk-estimator-doc-link:hover,\n",
       ".sk-estimator-doc-link:hover,\n",
       "div.sk-label-container:hover .sk-estimator-doc-link:hover,\n",
       ".sk-estimator-doc-link:hover {\n",
       "  /* unfitted */\n",
       "  background-color: var(--sklearn-color-unfitted-level-3);\n",
       "  color: var(--sklearn-color-background);\n",
       "  text-decoration: none;\n",
       "}\n",
       "\n",
       "div.sk-estimator.fitted:hover .sk-estimator-doc-link.fitted:hover,\n",
       ".sk-estimator-doc-link.fitted:hover,\n",
       "div.sk-label-container:hover .sk-estimator-doc-link.fitted:hover,\n",
       ".sk-estimator-doc-link.fitted:hover {\n",
       "  /* fitted */\n",
       "  background-color: var(--sklearn-color-fitted-level-3);\n",
       "  color: var(--sklearn-color-background);\n",
       "  text-decoration: none;\n",
       "}\n",
       "\n",
       "/* Span, style for the box shown on hovering the info icon */\n",
       ".sk-estimator-doc-link span {\n",
       "  display: none;\n",
       "  z-index: 9999;\n",
       "  position: relative;\n",
       "  font-weight: normal;\n",
       "  right: .2ex;\n",
       "  padding: .5ex;\n",
       "  margin: .5ex;\n",
       "  width: min-content;\n",
       "  min-width: 20ex;\n",
       "  max-width: 50ex;\n",
       "  color: var(--sklearn-color-text);\n",
       "  box-shadow: 2pt 2pt 4pt #999;\n",
       "  /* unfitted */\n",
       "  background: var(--sklearn-color-unfitted-level-0);\n",
       "  border: .5pt solid var(--sklearn-color-unfitted-level-3);\n",
       "}\n",
       "\n",
       ".sk-estimator-doc-link.fitted span {\n",
       "  /* fitted */\n",
       "  background: var(--sklearn-color-fitted-level-0);\n",
       "  border: var(--sklearn-color-fitted-level-3);\n",
       "}\n",
       "\n",
       ".sk-estimator-doc-link:hover span {\n",
       "  display: block;\n",
       "}\n",
       "\n",
       "/* \"?\"-specific style due to the `<a>` HTML tag */\n",
       "\n",
       "#sk-container-id-1 a.estimator_doc_link {\n",
       "  float: right;\n",
       "  font-size: 1rem;\n",
       "  line-height: 1em;\n",
       "  font-family: monospace;\n",
       "  background-color: var(--sklearn-color-background);\n",
       "  border-radius: 1rem;\n",
       "  height: 1rem;\n",
       "  width: 1rem;\n",
       "  text-decoration: none;\n",
       "  /* unfitted */\n",
       "  color: var(--sklearn-color-unfitted-level-1);\n",
       "  border: var(--sklearn-color-unfitted-level-1) 1pt solid;\n",
       "}\n",
       "\n",
       "#sk-container-id-1 a.estimator_doc_link.fitted {\n",
       "  /* fitted */\n",
       "  border: var(--sklearn-color-fitted-level-1) 1pt solid;\n",
       "  color: var(--sklearn-color-fitted-level-1);\n",
       "}\n",
       "\n",
       "/* On hover */\n",
       "#sk-container-id-1 a.estimator_doc_link:hover {\n",
       "  /* unfitted */\n",
       "  background-color: var(--sklearn-color-unfitted-level-3);\n",
       "  color: var(--sklearn-color-background);\n",
       "  text-decoration: none;\n",
       "}\n",
       "\n",
       "#sk-container-id-1 a.estimator_doc_link.fitted:hover {\n",
       "  /* fitted */\n",
       "  background-color: var(--sklearn-color-fitted-level-3);\n",
       "}\n",
       "</style><div id=\"sk-container-id-1\" class=\"sk-top-container\"><div class=\"sk-text-repr-fallback\"><pre>XGBRegressor(base_score=None, booster=None, callbacks=None,\n",
       "             colsample_bylevel=None, colsample_bynode=None,\n",
       "             colsample_bytree=0.8, device=None, early_stopping_rounds=None,\n",
       "             enable_categorical=False, eval_metric=None, feature_types=None,\n",
       "             gamma=None, grow_policy=None, importance_type=None,\n",
       "             interaction_constraints=None, learning_rate=0.1, max_bin=None,\n",
       "             max_cat_threshold=None, max_cat_to_onehot=None,\n",
       "             max_delta_step=None, max_depth=3, max_leaves=None,\n",
       "             min_child_weight=None, missing=nan, monotone_constraints=None,\n",
       "             multi_strategy=None, n_estimators=50, n_jobs=None,\n",
       "             num_parallel_tree=None, random_state=0, ...)</pre><b>In a Jupyter environment, please rerun this cell to show the HTML representation or trust the notebook. <br />On GitHub, the HTML representation is unable to render, please try loading this page with nbviewer.org.</b></div><div class=\"sk-container\" hidden><div class=\"sk-item\"><div class=\"sk-estimator fitted sk-toggleable\"><input class=\"sk-toggleable__control sk-hidden--visually\" id=\"sk-estimator-id-1\" type=\"checkbox\" checked><label for=\"sk-estimator-id-1\" class=\"sk-toggleable__label fitted sk-toggleable__label-arrow fitted\">&nbsp;XGBRegressor<span class=\"sk-estimator-doc-link fitted\">i<span>Fitted</span></span></label><div class=\"sk-toggleable__content fitted\"><pre>XGBRegressor(base_score=None, booster=None, callbacks=None,\n",
       "             colsample_bylevel=None, colsample_bynode=None,\n",
       "             colsample_bytree=0.8, device=None, early_stopping_rounds=None,\n",
       "             enable_categorical=False, eval_metric=None, feature_types=None,\n",
       "             gamma=None, grow_policy=None, importance_type=None,\n",
       "             interaction_constraints=None, learning_rate=0.1, max_bin=None,\n",
       "             max_cat_threshold=None, max_cat_to_onehot=None,\n",
       "             max_delta_step=None, max_depth=3, max_leaves=None,\n",
       "             min_child_weight=None, missing=nan, monotone_constraints=None,\n",
       "             multi_strategy=None, n_estimators=50, n_jobs=None,\n",
       "             num_parallel_tree=None, random_state=0, ...)</pre></div> </div></div></div></div>"
      ],
      "text/plain": [
       "XGBRegressor(base_score=None, booster=None, callbacks=None,\n",
       "             colsample_bylevel=None, colsample_bynode=None,\n",
       "             colsample_bytree=0.8, device=None, early_stopping_rounds=None,\n",
       "             enable_categorical=False, eval_metric=None, feature_types=None,\n",
       "             gamma=None, grow_policy=None, importance_type=None,\n",
       "             interaction_constraints=None, learning_rate=0.1, max_bin=None,\n",
       "             max_cat_threshold=None, max_cat_to_onehot=None,\n",
       "             max_delta_step=None, max_depth=3, max_leaves=None,\n",
       "             min_child_weight=None, missing=nan, monotone_constraints=None,\n",
       "             multi_strategy=None, n_estimators=50, n_jobs=None,\n",
       "             num_parallel_tree=None, random_state=0, ...)"
      ]
     },
     "execution_count": 136,
     "metadata": {},
     "output_type": "execute_result"
    }
   ],
   "source": [
    "best_model_3 = clf.best_estimator_\n",
    "best_model_3"
   ]
  },
  {
   "cell_type": "code",
   "execution_count": 135,
   "id": "bc502c91-b04b-48ac-88fd-ebd44ae0accd",
   "metadata": {},
   "outputs": [
    {
     "name": "stdout",
     "output_type": "stream",
     "text": [
      "Mean Squared Error (MSE): 26.569846909947852\n",
      "R² Score: 0.5941957153871147\n"
     ]
    }
   ],
   "source": [
    "y_pred_random_3 = best_model_random_3.predict(X_test)\n",
    "from sklearn.metrics import mean_squared_error, r2_score\n",
    "mse_random_3 = mean_squared_error(y_test, y_pred_random_3)\n",
    "r2_random_3 = r2_score(y_test, y_pred_random_3)\n",
    "\n",
    "print(\"Mean Squared Error (MSE):\", mse_random_3)\n",
    "print(\"R² Score:\", r2_random_3)"
   ]
  },
  {
   "cell_type": "code",
   "execution_count": 138,
   "id": "c95bbbd6-7f41-48f3-b3c1-056d8c54af65",
   "metadata": {},
   "outputs": [
    {
     "data": {
      "text/plain": [
       "array([0.63762459, 0.62434056, 0.56428825, 0.56336404, 0.58871495])"
      ]
     },
     "execution_count": 138,
     "metadata": {},
     "output_type": "execute_result"
    }
   ],
   "source": [
    "from sklearn.model_selection import cross_val_score\n",
    "cross_val_score(Ridge(0.0655), X_train, y_train)"
   ]
  },
  {
   "cell_type": "code",
   "execution_count": 139,
   "id": "631f356a-6b3f-4cdb-a1e5-80f70553e156",
   "metadata": {},
   "outputs": [],
   "source": [
    "X_all = scaler.fit_transform(df.drop(columns = ['EnergyConsumption', 'Timestamp']))\n",
    "X_all = pd.DataFrame(data=X_all, columns=df.drop(columns = ['EnergyConsumption','Timestamp']).columns)"
   ]
  },
  {
   "cell_type": "code",
   "execution_count": 140,
   "id": "93fdc057-6ee7-483e-83ce-6b87a16b1900",
   "metadata": {},
   "outputs": [],
   "source": [
    "from sklearn.model_selection import train_test_split\n",
    "X_train_all, X_test_all, y_train_all, y_test_all = train_test_split(X_all, y, test_size=0.2, random_state = 40)"
   ]
  },
  {
   "cell_type": "code",
   "execution_count": 141,
   "id": "e9753184-8040-46a0-9014-9afba043c1e2",
   "metadata": {},
   "outputs": [
    {
     "name": "stderr",
     "output_type": "stream",
     "text": [
      "C:\\Users\\abcde\\AppData\\Roaming\\Python\\Python312\\site-packages\\sklearn\\model_selection\\_search.py:320: UserWarning: The total space of parameters 1 is smaller than n_iter=10. Running 1 iterations. For exhaustive searches, use GridSearchCV.\n",
      "  warnings.warn(\n"
     ]
    }
   ],
   "source": [
    "scores_all = []\n",
    "for model_name, mp in model_params.items():   # model_name is the key in dictionary and mp are the values which itself is \n",
    "    #dictionary containg model and params as values... .items() alows us to access both keys and values simultaneously in dictionary \n",
    "    clf = RandomizedSearchCV(mp['model'], mp['params'], cv=5)\n",
    "    clf.fit(X_train_all, y_train_all)\n",
    "    scores_all.append({\n",
    "        'model': model_name,\n",
    "        'best_score': clf.best_score_,\n",
    "        'best_params': clf.best_params_\n",
    "    }) "
   ]
  },
  {
   "cell_type": "code",
   "execution_count": 142,
   "id": "897848ae-cc62-473b-a7e3-5aa5c13500fe",
   "metadata": {},
   "outputs": [
    {
     "data": {
      "text/html": [
       "<div>\n",
       "<style scoped>\n",
       "    .dataframe tbody tr th:only-of-type {\n",
       "        vertical-align: middle;\n",
       "    }\n",
       "\n",
       "    .dataframe tbody tr th {\n",
       "        vertical-align: top;\n",
       "    }\n",
       "\n",
       "    .dataframe thead th {\n",
       "        text-align: right;\n",
       "    }\n",
       "</style>\n",
       "<table border=\"1\" class=\"dataframe\">\n",
       "  <thead>\n",
       "    <tr style=\"text-align: right;\">\n",
       "      <th></th>\n",
       "      <th>model</th>\n",
       "      <th>best_score</th>\n",
       "      <th>best_params</th>\n",
       "    </tr>\n",
       "  </thead>\n",
       "  <tbody>\n",
       "    <tr>\n",
       "      <th>0</th>\n",
       "      <td>grad_boost</td>\n",
       "      <td>0.558439</td>\n",
       "      <td>{'subsample': 1.0, 'n_estimators': 50, 'min_sa...</td>\n",
       "    </tr>\n",
       "    <tr>\n",
       "      <th>1</th>\n",
       "      <td>svm</td>\n",
       "      <td>0.600348</td>\n",
       "      <td>{'kernel': 'linear', 'gamma': 0.1, 'epsilon': ...</td>\n",
       "    </tr>\n",
       "    <tr>\n",
       "      <th>2</th>\n",
       "      <td>random_forest</td>\n",
       "      <td>0.570786</td>\n",
       "      <td>{'n_estimators': 50, 'min_samples_split': 10, ...</td>\n",
       "    </tr>\n",
       "    <tr>\n",
       "      <th>3</th>\n",
       "      <td>Ridge</td>\n",
       "      <td>0.605648</td>\n",
       "      <td>{'alpha': 0.47148663634573945}</td>\n",
       "    </tr>\n",
       "    <tr>\n",
       "      <th>4</th>\n",
       "      <td>linear_regression</td>\n",
       "      <td>0.605571</td>\n",
       "      <td>{}</td>\n",
       "    </tr>\n",
       "    <tr>\n",
       "      <th>5</th>\n",
       "      <td>xgboost</td>\n",
       "      <td>0.571954</td>\n",
       "      <td>{'subsample': 1.0, 'reg_lambda': 1, 'reg_alpha...</td>\n",
       "    </tr>\n",
       "  </tbody>\n",
       "</table>\n",
       "</div>"
      ],
      "text/plain": [
       "               model  best_score  \\\n",
       "0         grad_boost    0.558439   \n",
       "1                svm    0.600348   \n",
       "2      random_forest    0.570786   \n",
       "3              Ridge    0.605648   \n",
       "4  linear_regression    0.605571   \n",
       "5            xgboost    0.571954   \n",
       "\n",
       "                                         best_params  \n",
       "0  {'subsample': 1.0, 'n_estimators': 50, 'min_sa...  \n",
       "1  {'kernel': 'linear', 'gamma': 0.1, 'epsilon': ...  \n",
       "2  {'n_estimators': 50, 'min_samples_split': 10, ...  \n",
       "3                     {'alpha': 0.47148663634573945}  \n",
       "4                                                 {}  \n",
       "5  {'subsample': 1.0, 'reg_lambda': 1, 'reg_alpha...  "
      ]
     },
     "execution_count": 142,
     "metadata": {},
     "output_type": "execute_result"
    }
   ],
   "source": [
    "scor_d_all = pd.DataFrame(scores_all, columns = ['model', 'best_score', 'best_params'])                             \n",
    "scor_d_all"
   ]
  },
  {
   "cell_type": "code",
   "execution_count": 143,
   "id": "a188646c-1239-4719-9498-4836045d9e4b",
   "metadata": {},
   "outputs": [],
   "source": [
    "best_model_all = clf.best_estimator_"
   ]
  },
  {
   "cell_type": "raw",
   "id": "d182f18c-f736-43f4-9ee5-976fee78aa9f",
   "metadata": {},
   "source": [
    "We will use this model as it is having high R2 score as well as high K Cross Validation score which make ensure that this will work fine with unseen data..... "
   ]
  },
  {
   "cell_type": "code",
   "execution_count": 144,
   "id": "7566337b-eba1-45ea-a8c8-c8ba2a9f1726",
   "metadata": {},
   "outputs": [],
   "source": [
    "y_pred_all = best_model_all.predict(X_test_all)"
   ]
  },
  {
   "cell_type": "code",
   "execution_count": 145,
   "id": "8ec7a757-9e2b-4850-93dc-77c323bb0606",
   "metadata": {},
   "outputs": [
    {
     "name": "stdout",
     "output_type": "stream",
     "text": [
      "Mean Squared Error (MSE): 29.425145155978353\n",
      "R² Score: 0.5505864215129745\n"
     ]
    }
   ],
   "source": [
    "from sklearn.metrics import mean_squared_error, r2_score\n",
    "mse_all = mean_squared_error(y_test_all, y_pred_all)\n",
    "r2_all = r2_score(y_test_all, y_pred_all)\n",
    "\n",
    "print(\"Mean Squared Error (MSE):\", mse_all)\n",
    "print(\"R² Score:\", r2_all)"
   ]
  },
  {
   "cell_type": "code",
   "execution_count": 146,
   "id": "cf058c91-a3f6-464f-b14c-8ceaf43bacd0",
   "metadata": {},
   "outputs": [
    {
     "data": {
      "text/plain": [
       "array([0.65289306, 0.65017216, 0.57295329, 0.57239521, 0.57982515])"
      ]
     },
     "execution_count": 146,
     "metadata": {},
     "output_type": "execute_result"
    }
   ],
   "source": [
    "from sklearn.model_selection import cross_val_score\n",
    "cross_val_score(Ridge(0.47), X_train_all, y_train_all)"
   ]
  },
  {
   "cell_type": "code",
   "execution_count": 150,
   "id": "a78fc1df-5ad7-41ae-97a9-ccad184517ba",
   "metadata": {},
   "outputs": [],
   "source": [
    "X_7 = scaler.fit_transform(df.drop(columns = ['EnergyConsumption', 'Timestamp', 'SquareFootage', 'DayOfWeek']))\n",
    "X_7 = pd.DataFrame(data=X_7, columns=df.drop(columns = ['EnergyConsumption','Timestamp', 'SquareFootage', 'DayOfWeek']).columns)"
   ]
  },
  {
   "cell_type": "code",
   "execution_count": 151,
   "id": "c239c67d-3628-4fa5-a643-3be6915736b3",
   "metadata": {},
   "outputs": [],
   "source": [
    "from sklearn.model_selection import train_test_split\n",
    "X_train_7, X_test_7, y_train_7, y_test_7 = train_test_split(X_7, y, test_size=0.2, random_state = 40)"
   ]
  },
  {
   "cell_type": "code",
   "execution_count": 152,
   "id": "f51f8768-352b-4fad-ae52-3f802192fb6b",
   "metadata": {},
   "outputs": [
    {
     "name": "stderr",
     "output_type": "stream",
     "text": [
      "C:\\Users\\abcde\\AppData\\Roaming\\Python\\Python312\\site-packages\\sklearn\\model_selection\\_search.py:320: UserWarning: The total space of parameters 1 is smaller than n_iter=10. Running 1 iterations. For exhaustive searches, use GridSearchCV.\n",
      "  warnings.warn(\n"
     ]
    }
   ],
   "source": [
    "scores_7 = []\n",
    "for model_name, mp in model_params.items():   # model_name is the key in dictionary and mp are the values which itself is \n",
    "    #dictionary containg model and params as values... .items() alows us to access both keys and values simultaneously in dictionary \n",
    "    clf = RandomizedSearchCV(mp['model'], mp['params'], cv=5)\n",
    "    clf.fit(X_train_7, y_train_7)\n",
    "    scores_7.append({\n",
    "        'model': model_name,\n",
    "        'best_score': clf.best_score_,\n",
    "        'best_params': clf.best_params_\n",
    "    }) "
   ]
  },
  {
   "cell_type": "code",
   "execution_count": 153,
   "id": "a731f7bf-33a3-42f3-8825-af35fda02e59",
   "metadata": {},
   "outputs": [
    {
     "data": {
      "text/html": [
       "<div>\n",
       "<style scoped>\n",
       "    .dataframe tbody tr th:only-of-type {\n",
       "        vertical-align: middle;\n",
       "    }\n",
       "\n",
       "    .dataframe tbody tr th {\n",
       "        vertical-align: top;\n",
       "    }\n",
       "\n",
       "    .dataframe thead th {\n",
       "        text-align: right;\n",
       "    }\n",
       "</style>\n",
       "<table border=\"1\" class=\"dataframe\">\n",
       "  <thead>\n",
       "    <tr style=\"text-align: right;\">\n",
       "      <th></th>\n",
       "      <th>model</th>\n",
       "      <th>best_score</th>\n",
       "      <th>best_params</th>\n",
       "    </tr>\n",
       "  </thead>\n",
       "  <tbody>\n",
       "    <tr>\n",
       "      <th>0</th>\n",
       "      <td>grad_boost</td>\n",
       "      <td>0.580991</td>\n",
       "      <td>{'subsample': 0.8, 'n_estimators': 80, 'min_sa...</td>\n",
       "    </tr>\n",
       "    <tr>\n",
       "      <th>1</th>\n",
       "      <td>svm</td>\n",
       "      <td>0.603696</td>\n",
       "      <td>{'kernel': 'linear', 'gamma': 0.1, 'epsilon': ...</td>\n",
       "    </tr>\n",
       "    <tr>\n",
       "      <th>2</th>\n",
       "      <td>random_forest</td>\n",
       "      <td>0.555791</td>\n",
       "      <td>{'n_estimators': 50, 'min_samples_split': 10, ...</td>\n",
       "    </tr>\n",
       "    <tr>\n",
       "      <th>3</th>\n",
       "      <td>Ridge</td>\n",
       "      <td>0.606835</td>\n",
       "      <td>{'alpha': 0.35564803062231287}</td>\n",
       "    </tr>\n",
       "    <tr>\n",
       "      <th>4</th>\n",
       "      <td>linear_regression</td>\n",
       "      <td>0.606792</td>\n",
       "      <td>{}</td>\n",
       "    </tr>\n",
       "    <tr>\n",
       "      <th>5</th>\n",
       "      <td>xgboost</td>\n",
       "      <td>0.574697</td>\n",
       "      <td>{'subsample': 0.8, 'reg_lambda': 2, 'reg_alpha...</td>\n",
       "    </tr>\n",
       "  </tbody>\n",
       "</table>\n",
       "</div>"
      ],
      "text/plain": [
       "               model  best_score  \\\n",
       "0         grad_boost    0.580991   \n",
       "1                svm    0.603696   \n",
       "2      random_forest    0.555791   \n",
       "3              Ridge    0.606835   \n",
       "4  linear_regression    0.606792   \n",
       "5            xgboost    0.574697   \n",
       "\n",
       "                                         best_params  \n",
       "0  {'subsample': 0.8, 'n_estimators': 80, 'min_sa...  \n",
       "1  {'kernel': 'linear', 'gamma': 0.1, 'epsilon': ...  \n",
       "2  {'n_estimators': 50, 'min_samples_split': 10, ...  \n",
       "3                     {'alpha': 0.35564803062231287}  \n",
       "4                                                 {}  \n",
       "5  {'subsample': 0.8, 'reg_lambda': 2, 'reg_alpha...  "
      ]
     },
     "execution_count": 153,
     "metadata": {},
     "output_type": "execute_result"
    }
   ],
   "source": [
    "scor_d_7 = pd.DataFrame(scores_7, columns = ['model', 'best_score', 'best_params'])                             \n",
    "scor_d_7"
   ]
  },
  {
   "cell_type": "code",
   "execution_count": 154,
   "id": "f94de0f0-d892-4a06-8087-831efd958c62",
   "metadata": {},
   "outputs": [],
   "source": [
    "best_model_7 = clf.best_estimator_\n",
    "y_pred_7 = best_model_7.predict(X_test_7)"
   ]
  },
  {
   "cell_type": "code",
   "execution_count": 155,
   "id": "4d17dd2f-bd39-4265-8cb5-ebfbf3a15132",
   "metadata": {},
   "outputs": [
    {
     "name": "stdout",
     "output_type": "stream",
     "text": [
      "Mean Squared Error (MSE): 30.10771055867879\n",
      "R² Score: 0.5401615227213803\n"
     ]
    }
   ],
   "source": [
    "from sklearn.metrics import mean_squared_error, r2_score\n",
    "mse_7 = mean_squared_error(y_test_7, y_pred_7)\n",
    "r2_7 = r2_score(y_test_7, y_pred_7)\n",
    "\n",
    "print(\"Mean Squared Error (MSE):\", mse_7)\n",
    "print(\"R² Score:\", r2_7)"
   ]
  },
  {
   "cell_type": "code",
   "execution_count": 156,
   "id": "c9c9a397-c16b-4a42-b6dc-30772f2babaf",
   "metadata": {},
   "outputs": [
    {
     "data": {
      "text/plain": [
       "array([0.65101574, 0.64865414, 0.58213878, 0.57214756, 0.58021569])"
      ]
     },
     "execution_count": 156,
     "metadata": {},
     "output_type": "execute_result"
    }
   ],
   "source": [
    "cross_val_score(Ridge(0.35), X_train_7, y_train_7)"
   ]
  },
  {
   "cell_type": "code",
   "execution_count": null,
   "id": "4bde4f6f-bad5-4294-b8fa-0d5ca98f6b01",
   "metadata": {},
   "outputs": [],
   "source": []
  }
 ],
 "metadata": {
  "kernelspec": {
   "display_name": "Python 3 (ipykernel)",
   "language": "python",
   "name": "python3"
  },
  "language_info": {
   "codemirror_mode": {
    "name": "ipython",
    "version": 3
   },
   "file_extension": ".py",
   "mimetype": "text/x-python",
   "name": "python",
   "nbconvert_exporter": "python",
   "pygments_lexer": "ipython3",
   "version": "3.12.4"
  }
 },
 "nbformat": 4,
 "nbformat_minor": 5
}
